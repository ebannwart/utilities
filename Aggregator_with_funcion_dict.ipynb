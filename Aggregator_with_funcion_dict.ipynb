{
 "cells": [
  {
   "cell_type": "markdown",
   "metadata": {},
   "source": [
    "# Aggregator with function dictionary"
   ]
  },
  {
   "cell_type": "code",
   "execution_count": 5,
   "metadata": {},
   "outputs": [],
   "source": [
    "import pandas as pd\n",
    "import numpy as np"
   ]
  },
  {
   "cell_type": "code",
   "execution_count": 91,
   "metadata": {},
   "outputs": [
    {
     "data": {
      "text/html": [
       "<div>\n",
       "<style scoped>\n",
       "    .dataframe tbody tr th:only-of-type {\n",
       "        vertical-align: middle;\n",
       "    }\n",
       "\n",
       "    .dataframe tbody tr th {\n",
       "        vertical-align: top;\n",
       "    }\n",
       "\n",
       "    .dataframe thead th {\n",
       "        text-align: right;\n",
       "    }\n",
       "</style>\n",
       "<table border=\"1\" class=\"dataframe\">\n",
       "  <thead>\n",
       "    <tr style=\"text-align: right;\">\n",
       "      <th></th>\n",
       "      <th>Name</th>\n",
       "      <th>Salles 2019</th>\n",
       "      <th>Salles 2020</th>\n",
       "      <th>Salles 2021</th>\n",
       "    </tr>\n",
       "  </thead>\n",
       "  <tbody>\n",
       "    <tr>\n",
       "      <th>8</th>\n",
       "      <td>Jessica</td>\n",
       "      <td>855.096188</td>\n",
       "      <td>601.396211</td>\n",
       "      <td>654.628064</td>\n",
       "    </tr>\n",
       "    <tr>\n",
       "      <th>9</th>\n",
       "      <td>Jessica</td>\n",
       "      <td>538.464330</td>\n",
       "      <td>53.428006</td>\n",
       "      <td>432.172474</td>\n",
       "    </tr>\n",
       "    <tr>\n",
       "      <th>10</th>\n",
       "      <td>Jessica</td>\n",
       "      <td>970.750664</td>\n",
       "      <td>200.411242</td>\n",
       "      <td>452.529152</td>\n",
       "    </tr>\n",
       "  </tbody>\n",
       "</table>\n",
       "</div>"
      ],
      "text/plain": [
       "       Name  Salles 2019  Salles 2020  Salles 2021\n",
       "8   Jessica   855.096188   601.396211   654.628064\n",
       "9   Jessica   538.464330    53.428006   432.172474\n",
       "10  Jessica   970.750664   200.411242   452.529152"
      ]
     },
     "execution_count": 91,
     "metadata": {},
     "output_type": "execute_result"
    }
   ],
   "source": [
    "df = pd.DataFrame({'Name':['Anna','Anna','Anna','Anna','Anna','Ellen','Ellen','Ellen','Jessica','Jessica','Jessica'],\n",
    "                   'Salles 2019': 1000*abs(np.random.rand(11)),\n",
    "                   'Salles 2020': 1000*abs(np.random.rand(11)),\n",
    "                   'Salles 2021': 1000*abs(np.random.rand(11))})\n",
    "df.tail(3)"
   ]
  },
  {
   "cell_type": "code",
   "execution_count": 88,
   "metadata": {},
   "outputs": [
    {
     "data": {
      "text/html": [
       "<div>\n",
       "<style scoped>\n",
       "    .dataframe tbody tr th:only-of-type {\n",
       "        vertical-align: middle;\n",
       "    }\n",
       "\n",
       "    .dataframe tbody tr th {\n",
       "        vertical-align: top;\n",
       "    }\n",
       "\n",
       "    .dataframe thead th {\n",
       "        text-align: right;\n",
       "    }\n",
       "</style>\n",
       "<table border=\"1\" class=\"dataframe\">\n",
       "  <thead>\n",
       "    <tr style=\"text-align: right;\">\n",
       "      <th></th>\n",
       "      <th>Salles 2019</th>\n",
       "      <th>Salles 2020</th>\n",
       "      <th>Salles 2021</th>\n",
       "    </tr>\n",
       "    <tr>\n",
       "      <th>Name</th>\n",
       "      <th></th>\n",
       "      <th></th>\n",
       "      <th></th>\n",
       "    </tr>\n",
       "  </thead>\n",
       "  <tbody>\n",
       "    <tr>\n",
       "      <th>Anna</th>\n",
       "      <td>414.838825</td>\n",
       "      <td>391.432297</td>\n",
       "      <td>600.589683</td>\n",
       "    </tr>\n",
       "    <tr>\n",
       "      <th>Ellen</th>\n",
       "      <td>350.153178</td>\n",
       "      <td>677.739429</td>\n",
       "      <td>594.401276</td>\n",
       "    </tr>\n",
       "    <tr>\n",
       "      <th>Jessica</th>\n",
       "      <td>774.576861</td>\n",
       "      <td>654.829961</td>\n",
       "      <td>789.627325</td>\n",
       "    </tr>\n",
       "  </tbody>\n",
       "</table>\n",
       "</div>"
      ],
      "text/plain": [
       "         Salles 2019  Salles 2020  Salles 2021\n",
       "Name                                          \n",
       "Anna      414.838825   391.432297   600.589683\n",
       "Ellen     350.153178   677.739429   594.401276\n",
       "Jessica   774.576861   654.829961   789.627325"
      ]
     },
     "execution_count": 88,
     "metadata": {},
     "output_type": "execute_result"
    }
   ],
   "source": [
    "def sum_agg(series):\n",
    "    return series.sum()\n",
    "\n",
    "def number_entries(series):\n",
    "    return len(np.unique(series))\n",
    "\n",
    "sum_agg = {\n",
    "        'Salles 2019':[sum_agg],\n",
    "        'Salles 2020':[sum_agg],\n",
    "        'Salles 2021':[sum_agg]    \n",
    "        }\n",
    "\n",
    "number_entries = {\n",
    "        'Salles 2019':[number_entries],\n",
    "        'Salles 2020':[number_entries],\n",
    "        'Salles 2021':[number_entries]    \n",
    "        }\n",
    "\n",
    "\n",
    "df_sum = pd.DataFrame(df.groupby(['Name']).agg(sum_agg))\n",
    "df_sum.columns = df_sum.columns.levels[0]\n",
    "\n",
    "df_number_entries = pd.DataFrame(df.groupby(['Name']).agg(number_entries))\n",
    "df_number_entries.columns = df_number_entries.columns.levels[0]\n",
    "\n",
    "df_end = df_sum.div(df_number_entries)\n",
    "df_end"
   ]
  },
  {
   "cell_type": "code",
   "execution_count": 89,
   "metadata": {},
   "outputs": [
    {
     "data": {
      "text/html": [
       "<div>\n",
       "<style scoped>\n",
       "    .dataframe tbody tr th:only-of-type {\n",
       "        vertical-align: middle;\n",
       "    }\n",
       "\n",
       "    .dataframe tbody tr th {\n",
       "        vertical-align: top;\n",
       "    }\n",
       "\n",
       "    .dataframe thead th {\n",
       "        text-align: right;\n",
       "    }\n",
       "</style>\n",
       "<table border=\"1\" class=\"dataframe\">\n",
       "  <thead>\n",
       "    <tr style=\"text-align: right;\">\n",
       "      <th></th>\n",
       "      <th>Salles 2019</th>\n",
       "      <th>Salles 2020</th>\n",
       "      <th>Salles 2021</th>\n",
       "    </tr>\n",
       "    <tr>\n",
       "      <th>Name</th>\n",
       "      <th></th>\n",
       "      <th></th>\n",
       "      <th></th>\n",
       "    </tr>\n",
       "  </thead>\n",
       "  <tbody>\n",
       "    <tr>\n",
       "      <th>Anna</th>\n",
       "      <td>414.838825</td>\n",
       "      <td>391.432297</td>\n",
       "      <td>600.589683</td>\n",
       "    </tr>\n",
       "    <tr>\n",
       "      <th>Ellen</th>\n",
       "      <td>350.153178</td>\n",
       "      <td>677.739429</td>\n",
       "      <td>594.401276</td>\n",
       "    </tr>\n",
       "    <tr>\n",
       "      <th>Jessica</th>\n",
       "      <td>774.576861</td>\n",
       "      <td>654.829961</td>\n",
       "      <td>789.627325</td>\n",
       "    </tr>\n",
       "  </tbody>\n",
       "</table>\n",
       "</div>"
      ],
      "text/plain": [
       "         Salles 2019  Salles 2020  Salles 2021\n",
       "Name                                          \n",
       "Anna      414.838825   391.432297   600.589683\n",
       "Ellen     350.153178   677.739429   594.401276\n",
       "Jessica   774.576861   654.829961   789.627325"
      ]
     },
     "execution_count": 89,
     "metadata": {},
     "output_type": "execute_result"
    }
   ],
   "source": [
    "mean_agg = {\n",
    "        'Salles 2019':[np.mean],\n",
    "        'Salles 2020':[np.mean],\n",
    "        'Salles 2021':[np.mean]    \n",
    "        }\n",
    "\n",
    "df_mean = pd.DataFrame(df.groupby(['Name']).agg(mean_agg))\n",
    "df_mean.columns = df_mean.columns.levels[0]\n",
    "\n",
    "df_mean"
   ]
  }
 ],
 "metadata": {
  "kernelspec": {
   "display_name": "Python 3",
   "language": "python",
   "name": "python3"
  },
  "language_info": {
   "codemirror_mode": {
    "name": "ipython",
    "version": 3
   },
   "file_extension": ".py",
   "mimetype": "text/x-python",
   "name": "python",
   "nbconvert_exporter": "python",
   "pygments_lexer": "ipython3",
   "version": "3.8.5"
  }
 },
 "nbformat": 4,
 "nbformat_minor": 4
}
