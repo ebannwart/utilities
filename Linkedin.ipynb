{
 "cells": [
  {
   "cell_type": "code",
   "execution_count": 17,
   "id": "ff26e3b7",
   "metadata": {},
   "outputs": [],
   "source": [
    "import pyautogui\n",
    "import time\n",
    "import random\n",
    "import pandas as pd\n",
    "import pyperclip"
   ]
  },
  {
   "cell_type": "markdown",
   "id": "b611aa60",
   "metadata": {},
   "source": [
    "## Encontra link dos videos"
   ]
  },
  {
   "cell_type": "code",
   "execution_count": 18,
   "id": "5e8c05d8",
   "metadata": {},
   "outputs": [],
   "source": [
    "def centro_posicao(imagem,conf):\n",
    "    s = pyautogui.locateOnScreen(imagem, confidence=conf)\n",
    "    x = s.left + int(s.width/2)\n",
    "    y = s.top + int(s.height/2) \n",
    "    centro = {'x':x,'y':y}\n",
    "    return centro"
   ]
  },
  {
   "cell_type": "code",
   "execution_count": 46,
   "id": "0bed0869",
   "metadata": {},
   "outputs": [
    {
     "ename": "KeyboardInterrupt",
     "evalue": "",
     "output_type": "error",
     "traceback": [
      "\u001b[1;31m---------------------------------------------------------------------------\u001b[0m",
      "\u001b[1;31mKeyboardInterrupt\u001b[0m                         Traceback (most recent call last)",
      "Input \u001b[1;32mIn [46]\u001b[0m, in \u001b[0;36m<cell line: 11>\u001b[1;34m()\u001b[0m\n\u001b[0;32m     11\u001b[0m \u001b[38;5;28;01mfor\u001b[39;00m i \u001b[38;5;129;01min\u001b[39;00m \u001b[38;5;28mrange\u001b[39m(\u001b[38;5;241m0\u001b[39m,\u001b[38;5;241m1000\u001b[39m):\n\u001b[0;32m     12\u001b[0m     pyautogui\u001b[38;5;241m.\u001b[39mscroll(\u001b[38;5;241m-\u001b[39m\u001b[38;5;241m300\u001b[39m)\n\u001b[1;32m---> 13\u001b[0m     \u001b[43mtime\u001b[49m\u001b[38;5;241;43m.\u001b[39;49m\u001b[43msleep\u001b[49m\u001b[43m(\u001b[49m\u001b[38;5;241;43m0.5\u001b[39;49m\u001b[43m)\u001b[49m\n",
      "\u001b[1;31mKeyboardInterrupt\u001b[0m: "
     ]
    }
   ],
   "source": [
    "time.sleep(5)\n",
    "#endereco = 'https://www.linkedin.com/company/utfpr/people/'\n",
    "\n",
    "#pyautogui.click(x = 931, y=51)\n",
    "#pyautogui.write(endereco, interval=0.05)\n",
    "#pyautogui.press('enter')\n",
    "#time.sleep(5)\n",
    "\n",
    "pyautogui.moveTo(598, 621)\n",
    "\n",
    "for i in range(0,1000):\n",
    "    pyautogui.scroll(-300)\n",
    "    time.sleep(0.5)\n"
   ]
  },
  {
   "cell_type": "code",
   "execution_count": 43,
   "id": "8339c42b",
   "metadata": {},
   "outputs": [],
   "source": [
    "time.sleep(5)\n",
    "\n",
    "pyautogui.click(1496, 86)\n",
    "pyautogui.click(1496, 86)\n",
    "pyautogui.click(1496, 86)\n",
    "busca = 'Estudante'\n",
    "pyautogui.write(busca, interval=0.05)\n",
    "\n",
    "for i in range(0,3):\n",
    "    c = centro_posicao('rpa/busca_linkedin.png',0.9)\n",
    "    pyautogui.click(x = c['x'], y=c['y'])\n",
    "    time.sleep(1)\n",
    "\n",
    "    try:\n",
    "        c = centro_posicao('rpa/Estudante_linkedin.png',0.95)\n",
    "        x = c['x']+50\n",
    "        y = c['y']-100    \n",
    "        pyautogui.keyDown('ctrl')\n",
    "        pyautogui.click(x,y)\n",
    "        pyautogui.keyUp('ctrl')\n",
    "\n",
    "    except:\n",
    "        print('Não achou')"
   ]
  },
  {
   "cell_type": "code",
   "execution_count": null,
   "id": "7196df33",
   "metadata": {},
   "outputs": [],
   "source": []
  },
  {
   "cell_type": "code",
   "execution_count": null,
   "id": "bb753fc3",
   "metadata": {},
   "outputs": [],
   "source": []
  },
  {
   "cell_type": "code",
   "execution_count": null,
   "id": "2401b9ab",
   "metadata": {},
   "outputs": [],
   "source": []
  },
  {
   "cell_type": "code",
   "execution_count": null,
   "id": "ba38700e",
   "metadata": {},
   "outputs": [],
   "source": []
  },
  {
   "cell_type": "code",
   "execution_count": null,
   "id": "bfc2b3be",
   "metadata": {},
   "outputs": [],
   "source": []
  }
 ],
 "metadata": {
  "kernelspec": {
   "display_name": "Python 3 (ipykernel)",
   "language": "python",
   "name": "python3"
  },
  "language_info": {
   "codemirror_mode": {
    "name": "ipython",
    "version": 3
   },
   "file_extension": ".py",
   "mimetype": "text/x-python",
   "name": "python",
   "nbconvert_exporter": "python",
   "pygments_lexer": "ipython3",
   "version": "3.9.12"
  }
 },
 "nbformat": 4,
 "nbformat_minor": 5
}
