{
 "cells": [
  {
   "cell_type": "code",
   "execution_count": 4,
   "metadata": {},
   "outputs": [],
   "source": [
    "import pandas as pd\n",
    "import os"
   ]
  },
  {
   "cell_type": "code",
   "execution_count": 16,
   "metadata": {},
   "outputs": [],
   "source": [
    "key = 'ProducaoFabrica' # strip of string that file have\n",
    "n_files = 15 # Number of files that script reads\n",
    "month_actual = True # My files begin with number of month, but the actual month dont have number, this variable decide thar read or dont read the actual month"
   ]
  },
  {
   "cell_type": "code",
   "execution_count": 61,
   "metadata": {},
   "outputs": [],
   "source": [
    "def le_arquivo_excel(endereco,aba,linha):\n",
    "    # Carrega dataframe da planilha\n",
    "    if aba == 0:\n",
    "        df = pd.read_excel(endereco, header=linha)\n",
    "    else:\n",
    "        df = pd.read_excel(endereco, sheet_name= aba, header=linha)\n",
    "    return df\n",
    "\n",
    "     \n",
    "def abrir_historico(pasta,mes_atual):\n",
    "    caminhos = []    \n",
    "    for nome in os.listdir(pasta):\n",
    "        \n",
    "        if nome[0:2].isnumeric() == True:\n",
    "            if \"~\" not in nome:\n",
    "                caminhos.append(os.path.join(pasta, nome))\n",
    "        elif mes_atual == True:\n",
    "            if \"~\" not in nome:\n",
    "                caminhos.append(os.path.join(pasta, nome))\n",
    "    caminhos.sort()\n",
    "    return caminhos\n",
    "\n",
    "def flat_files(caminhos):\n",
    "    flat_list = []\n",
    "    for sublist in caminhos:\n",
    "        for item in sublist:\n",
    "            if item.find(key) != -1:\n",
    "                flat_list.append(item)\n",
    "\n",
    "    return flat_list"
   ]
  },
  {
   "cell_type": "code",
   "execution_count": 62,
   "metadata": {},
   "outputs": [
    {
     "name": "stdout",
     "output_type": "stream",
     "text": [
      "I:\\SIG\\Relatorios\\2020\\Producao\\06ProducaoFabrica-pt-br.xlsx\n",
      "I:\\SIG\\Relatorios\\2020\\Producao\\07ProducaoFabrica-pt-br.xlsx\n",
      "I:\\SIG\\Relatorios\\2020\\Producao\\08ProducaoFabrica-pt-br.xlsx\n",
      "I:\\SIG\\Relatorios\\2020\\Producao\\09ProducaoFabrica-pt-br.xlsx\n",
      "I:\\SIG\\Relatorios\\2020\\Producao\\10ProducaoFabrica-pt-br.xlsx\n",
      "I:\\SIG\\Relatorios\\2020\\Producao\\11ProducaoFabrica-pt-br.xlsx\n",
      "I:\\SIG\\Relatorios\\2020\\Producao\\12ProducaoFabrica-pt-br.xlsx\n",
      "I:\\SIG\\Relatorios\\2021\\Producao\\01ProducaoFabrica-pt-br.xlsx\n",
      "I:\\SIG\\Relatorios\\2021\\Producao\\02ProducaoFabrica-pt-br.xlsx\n",
      "I:\\SIG\\Relatorios\\2021\\Producao\\03ProducaoFabrica-pt-br.xlsx\n",
      "I:\\SIG\\Relatorios\\2021\\Producao\\04ProducaoFabrica-pt-br.xlsx\n",
      "I:\\SIG\\Relatorios\\2021\\Producao\\05ProducaoFabrica-pt-br.xlsx\n",
      "I:\\SIG\\Relatorios\\2021\\Producao\\06ProducaoFabrica-pt-br.xlsx\n",
      "I:\\SIG\\Relatorios\\2021\\Producao\\07ProducaoFabrica-pt-br.xlsx\n",
      "I:\\SIG\\Relatorios\\2021\\Producao\\ProducaoFabrica-pt-br.xlsx\n"
     ]
    }
   ],
   "source": [
    "\n",
    "folder2015 = r'I:\\SIG\\Relatorios\\2015\\Producao'\n",
    "folder2016 = r'I:\\SIG\\Relatorios\\2016\\Producao'\n",
    "folder2017 = r'I:\\SIG\\Relatorios\\2017\\Producao'\n",
    "folder2018 = r'I:\\SIG\\Relatorios\\2018\\Producao'\n",
    "folder2019 = r'I:\\SIG\\Relatorios\\2019\\Producao'\n",
    "folder2020 = r'I:\\SIG\\Relatorios\\2020\\Producao'\n",
    "folder2021 = r'I:\\SIG\\Relatorios\\2021\\Producao'\n",
    "\n",
    "files2015 = abrir_historico(folder2015,False)\n",
    "files2016 = abrir_historico(folder2016,False)\n",
    "files2017 = abrir_historico(folder2017,False)\n",
    "files2018 = abrir_historico(folder2018,False)\n",
    "files2019 = abrir_historico(folder2019,False)\n",
    "files2020 = abrir_historico(folder2020,False)\n",
    "files2021 = abrir_historico(folder2021,month_actual)\n",
    "\n",
    "caminhos = []\n",
    "\n",
    "caminhos.append(files2015)\n",
    "caminhos.append(files2016)\n",
    "caminhos.append(files2017)\n",
    "caminhos.append(files2018)\n",
    "caminhos.append(files2019)\n",
    "caminhos.append(files2020)\n",
    "caminhos.append(files2021)\n",
    "\n",
    "\n",
    "caminhos = flat_files(caminhos)\n",
    "\n",
    "caminhos = caminhos[-n_files:]\n",
    "\n",
    "df = pd.DataFrame()\n",
    "for end in caminhos:\n",
    "        if end.find(key) != -1:\n",
    "            print(end)\n",
    "            df_read = le_arquivo_excel(end, 0,5)\n",
    "            df = df.append(df_read,ignore_index = True)\n",
    "            df.reset_index()  \n",
    "            \n",
    "df = df.dropna(subset=['Dt. Evento (RSC)'])"
   ]
  },
  {
   "cell_type": "code",
   "execution_count": 59,
   "metadata": {},
   "outputs": [
    {
     "name": "stdout",
     "output_type": "stream",
     "text": [
      "Number of folder reads: 2\n",
      "Number of files reads: 15\n",
      "The oldest record: 2020-06-01\n",
      "The recent record: 2021-08-03\n"
     ]
    }
   ],
   "source": [
    "folder = []\n",
    "for archive in caminhos:\n",
    "    archive = archive[::-1]\n",
    "    folder.append(archive.split('\\\\',1)[1])\n",
    "unique_folder = set(folder)\n",
    "\n",
    "\n",
    "df = df.sort_values(by=['Dt. Evento (RSC)'])\n",
    "\n",
    "\n",
    "print('Number of folder reads: ' + str(len(unique_folder)))\n",
    "print('Number of files reads: ' + str(len(caminhos)))\n",
    "print('The oldest record: ' + df['Dt. Evento (RSC)'].dt.strftime('%Y-%m-%d').head(1).tolist()[0])\n",
    "print('The recent record: ' + df['Dt. Evento (RSC)'].dt.strftime('%Y-%m-%d').tail(1).tolist()[0])"
   ]
  },
  {
   "cell_type": "code",
   "execution_count": null,
   "metadata": {},
   "outputs": [],
   "source": []
  },
  {
   "cell_type": "code",
   "execution_count": null,
   "metadata": {},
   "outputs": [],
   "source": []
  },
  {
   "cell_type": "code",
   "execution_count": null,
   "metadata": {},
   "outputs": [],
   "source": []
  }
 ],
 "metadata": {
  "kernelspec": {
   "display_name": "Python 3",
   "language": "python",
   "name": "python3"
  },
  "language_info": {
   "codemirror_mode": {
    "name": "ipython",
    "version": 3
   },
   "file_extension": ".py",
   "mimetype": "text/x-python",
   "name": "python",
   "nbconvert_exporter": "python",
   "pygments_lexer": "ipython3",
   "version": "3.8.5"
  }
 },
 "nbformat": 4,
 "nbformat_minor": 4
}
