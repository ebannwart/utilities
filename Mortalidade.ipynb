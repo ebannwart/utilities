{
 "cells": [
  {
   "cell_type": "code",
   "execution_count": 115,
   "id": "9bb94852",
   "metadata": {},
   "outputs": [],
   "source": [
    "import pandas as pd\n",
    "import os\n",
    "import numpy as np\n",
    "import matplotlib.pyplot as plt\n",
    "import seaborn as sns\n",
    "from matplotlib.colors import LinearSegmentedColormap\n",
    "\n",
    "pd.options.mode.chained_assignment = None  # default='warn'\n",
    "%matplotlib inline"
   ]
  },
  {
   "cell_type": "markdown",
   "id": "0db9ad64",
   "metadata": {},
   "source": [
    "# Correção dos dados para visualização"
   ]
  },
  {
   "cell_type": "code",
   "execution_count": 116,
   "id": "b585d027",
   "metadata": {},
   "outputs": [],
   "source": [
    "def idade(df):\n",
    "    df.loc[(df['IDADE']<400),'IDADE'] = 0\n",
    "    df.loc[(df['IDADE']>=400)&(df['IDADE']<500),'IDADE'] = df['IDADE']-400\n",
    "    df.loc[(df['IDADE']>500),'IDADE'] = df['IDADE']-400\n",
    "    return df\n",
    "\n",
    "def data_obito(df):\n",
    "    df['DTOBITO'] = df['DTOBITO'].astype(str)\n",
    "    df['Ano'] = df['DTOBITO'].apply(lambda x: int(x[-4:]))\n",
    "    df['Mes'] = df['DTOBITO'].apply(lambda x: int(x[-6:-4]))\n",
    "    return df\n",
    "\n",
    "def raca(df):\n",
    "    df.loc[(df['RACACOR']==1),'RACACOR'] = 'Branca'\n",
    "    df.loc[(df['RACACOR']==2),'RACACOR'] = 'Preta'\n",
    "    df.loc[(df['RACACOR']==3),'RACACOR'] = 'Amarela'\n",
    "    df.loc[(df['RACACOR']==4),'RACACOR'] = 'Parda'\n",
    "    df.loc[(df['RACACOR']==5),'RACACOR'] = 'Indigena'\n",
    "    return df\n",
    "\n",
    "def escolaridade(df):\n",
    "    df.loc[(df['ESC2010']==0),'ESC2010'] = 'Sem escolaridade'\n",
    "    df.loc[(df['ESC2010']==1),'ESC2010'] = 'Fund. I'\n",
    "    df.loc[(df['ESC2010']==2),'ESC2010'] = 'Fund. II'\n",
    "    df.loc[(df['ESC2010']==3),'ESC2010'] = 'Médio'\n",
    "    df.loc[(df['ESC2010']==4),'ESC2010'] = 'Sup. Inc.'\n",
    "    df.loc[(df['ESC2010']==5),'ESC2010'] = 'Sup. Comp.'\n",
    "    df.loc[(df['ESC2010']==9),'ESC2010'] = 'Ignorado'\n",
    "    return df\n",
    "    \n",
    "def suicidio(df):\n",
    "    df = df.loc[df['CIRCOBITO']==2]\n",
    "    return df"
   ]
  },
  {
   "cell_type": "markdown",
   "id": "b034846e",
   "metadata": {},
   "source": [
    "# Subfunções destinas para funcionamento da lógica"
   ]
  },
  {
   "cell_type": "code",
   "execution_count": 117,
   "id": "f71068dc",
   "metadata": {},
   "outputs": [],
   "source": [
    "def abrir_historico(pasta):\n",
    "    caminhos = []    \n",
    "    for nome in os.listdir(pasta):\n",
    "        caminhos.append(os.path.join(pasta, nome))\n",
    "    caminhos.sort()\n",
    "    return caminhos\n",
    "\n",
    "def flat_files(caminhos):\n",
    "    flat_list = []\n",
    "    for sublist in caminhos:\n",
    "        for item in sublist:\n",
    "            flat_list.append(item)\n",
    "\n",
    "    return flat_list\n",
    "\n",
    "def pallete_bann(df,coluna,pallete_cor):\n",
    "    pal = sns.color_palette(pallete_cor, len(df))\n",
    "    rank = df[coluna].argsort().argsort() \n",
    "    pallete = np.array(pal[::-1])[rank]\n",
    "    \n",
    "    return pallete\n",
    "\n",
    "def cmap_bann():   \n",
    "    lista_cores = ['lightyellow','yellow','saddlebrown']   \n",
    "    n_bin = 20   \n",
    "    cmap_name = 'cmap_bann'\n",
    "    cmap = LinearSegmentedColormap.from_list(cmap_name, lista_cores, N=n_bin)\n",
    "\n",
    "    return cmap"
   ]
  },
  {
   "cell_type": "markdown",
   "id": "6879c2c5",
   "metadata": {},
   "source": [
    "# Leitura dos arquivos"
   ]
  },
  {
   "cell_type": "code",
   "execution_count": 118,
   "id": "deda64f8",
   "metadata": {},
   "outputs": [
    {
     "name": "stdout",
     "output_type": "stream",
     "text": [
      "D:\\Eduardo\\Python\\Mortalidade\\Mortalidade_Geral_2000.csv\n"
     ]
    },
    {
     "name": "stderr",
     "output_type": "stream",
     "text": [
      "C:\\Users\\eduar\\anaconda3\\lib\\site-packages\\IPython\\core\\interactiveshell.py:3165: DtypeWarning: Columns (4,9,15,20,23) have mixed types.Specify dtype option on import or set low_memory=False.\n",
      "  has_raised = await self.run_ast_nodes(code_ast.body, cell_name,\n"
     ]
    },
    {
     "name": "stdout",
     "output_type": "stream",
     "text": [
      "D:\\Eduardo\\Python\\Mortalidade\\Mortalidade_Geral_2001.csv\n"
     ]
    },
    {
     "name": "stderr",
     "output_type": "stream",
     "text": [
      "C:\\Users\\eduar\\anaconda3\\lib\\site-packages\\IPython\\core\\interactiveshell.py:3165: DtypeWarning: Columns (3,4,9,16,21,24) have mixed types.Specify dtype option on import or set low_memory=False.\n",
      "  has_raised = await self.run_ast_nodes(code_ast.body, cell_name,\n"
     ]
    },
    {
     "name": "stdout",
     "output_type": "stream",
     "text": [
      "D:\\Eduardo\\Python\\Mortalidade\\Mortalidade_Geral_2002.csv\n"
     ]
    },
    {
     "name": "stderr",
     "output_type": "stream",
     "text": [
      "C:\\Users\\eduar\\anaconda3\\lib\\site-packages\\IPython\\core\\interactiveshell.py:3165: DtypeWarning: Columns (15) have mixed types.Specify dtype option on import or set low_memory=False.\n",
      "  has_raised = await self.run_ast_nodes(code_ast.body, cell_name,\n"
     ]
    },
    {
     "name": "stdout",
     "output_type": "stream",
     "text": [
      "D:\\Eduardo\\Python\\Mortalidade\\Mortalidade_Geral_2003.csv\n"
     ]
    },
    {
     "name": "stderr",
     "output_type": "stream",
     "text": [
      "C:\\Users\\eduar\\anaconda3\\lib\\site-packages\\IPython\\core\\interactiveshell.py:3165: DtypeWarning: Columns (15,24,34,35,36) have mixed types.Specify dtype option on import or set low_memory=False.\n",
      "  has_raised = await self.run_ast_nodes(code_ast.body, cell_name,\n"
     ]
    },
    {
     "name": "stdout",
     "output_type": "stream",
     "text": [
      "D:\\Eduardo\\Python\\Mortalidade\\Mortalidade_Geral_2004.csv\n"
     ]
    },
    {
     "name": "stderr",
     "output_type": "stream",
     "text": [
      "C:\\Users\\eduar\\anaconda3\\lib\\site-packages\\IPython\\core\\interactiveshell.py:3165: DtypeWarning: Columns (4,41) have mixed types.Specify dtype option on import or set low_memory=False.\n",
      "  has_raised = await self.run_ast_nodes(code_ast.body, cell_name,\n"
     ]
    },
    {
     "name": "stdout",
     "output_type": "stream",
     "text": [
      "D:\\Eduardo\\Python\\Mortalidade\\Mortalidade_Geral_2005.csv\n"
     ]
    },
    {
     "name": "stderr",
     "output_type": "stream",
     "text": [
      "C:\\Users\\eduar\\anaconda3\\lib\\site-packages\\IPython\\core\\interactiveshell.py:3165: DtypeWarning: Columns (4,38) have mixed types.Specify dtype option on import or set low_memory=False.\n",
      "  has_raised = await self.run_ast_nodes(code_ast.body, cell_name,\n"
     ]
    },
    {
     "name": "stdout",
     "output_type": "stream",
     "text": [
      "D:\\Eduardo\\Python\\Mortalidade\\Mortalidade_Geral_2006.csv\n"
     ]
    },
    {
     "name": "stderr",
     "output_type": "stream",
     "text": [
      "C:\\Users\\eduar\\anaconda3\\lib\\site-packages\\IPython\\core\\interactiveshell.py:3165: DtypeWarning: Columns (3,43,45) have mixed types.Specify dtype option on import or set low_memory=False.\n",
      "  has_raised = await self.run_ast_nodes(code_ast.body, cell_name,\n"
     ]
    },
    {
     "name": "stdout",
     "output_type": "stream",
     "text": [
      "D:\\Eduardo\\Python\\Mortalidade\\Mortalidade_Geral_2007.csv\n"
     ]
    },
    {
     "name": "stderr",
     "output_type": "stream",
     "text": [
      "C:\\Users\\eduar\\anaconda3\\lib\\site-packages\\IPython\\core\\interactiveshell.py:3165: DtypeWarning: Columns (3) have mixed types.Specify dtype option on import or set low_memory=False.\n",
      "  has_raised = await self.run_ast_nodes(code_ast.body, cell_name,\n"
     ]
    },
    {
     "name": "stdout",
     "output_type": "stream",
     "text": [
      "D:\\Eduardo\\Python\\Mortalidade\\Mortalidade_Geral_2008.csv\n"
     ]
    },
    {
     "name": "stderr",
     "output_type": "stream",
     "text": [
      "C:\\Users\\eduar\\anaconda3\\lib\\site-packages\\IPython\\core\\interactiveshell.py:3165: DtypeWarning: Columns (3) have mixed types.Specify dtype option on import or set low_memory=False.\n",
      "  has_raised = await self.run_ast_nodes(code_ast.body, cell_name,\n"
     ]
    },
    {
     "name": "stdout",
     "output_type": "stream",
     "text": [
      "D:\\Eduardo\\Python\\Mortalidade\\Mortalidade_Geral_2009.csv\n"
     ]
    },
    {
     "name": "stderr",
     "output_type": "stream",
     "text": [
      "C:\\Users\\eduar\\anaconda3\\lib\\site-packages\\IPython\\core\\interactiveshell.py:3165: DtypeWarning: Columns (3) have mixed types.Specify dtype option on import or set low_memory=False.\n",
      "  has_raised = await self.run_ast_nodes(code_ast.body, cell_name,\n"
     ]
    },
    {
     "name": "stdout",
     "output_type": "stream",
     "text": [
      "D:\\Eduardo\\Python\\Mortalidade\\Mortalidade_Geral_2010.csv\n"
     ]
    },
    {
     "name": "stderr",
     "output_type": "stream",
     "text": [
      "C:\\Users\\eduar\\anaconda3\\lib\\site-packages\\IPython\\core\\interactiveshell.py:3165: DtypeWarning: Columns (4) have mixed types.Specify dtype option on import or set low_memory=False.\n",
      "  has_raised = await self.run_ast_nodes(code_ast.body, cell_name,\n"
     ]
    },
    {
     "name": "stdout",
     "output_type": "stream",
     "text": [
      "D:\\Eduardo\\Python\\Mortalidade\\Mortalidade_Geral_2011.csv\n"
     ]
    },
    {
     "name": "stderr",
     "output_type": "stream",
     "text": [
      "C:\\Users\\eduar\\anaconda3\\lib\\site-packages\\IPython\\core\\interactiveshell.py:3165: DtypeWarning: Columns (4,15,53) have mixed types.Specify dtype option on import or set low_memory=False.\n",
      "  has_raised = await self.run_ast_nodes(code_ast.body, cell_name,\n"
     ]
    },
    {
     "name": "stdout",
     "output_type": "stream",
     "text": [
      "D:\\Eduardo\\Python\\Mortalidade\\Mortalidade_Geral_2012.csv\n"
     ]
    },
    {
     "name": "stderr",
     "output_type": "stream",
     "text": [
      "C:\\Users\\eduar\\anaconda3\\lib\\site-packages\\IPython\\core\\interactiveshell.py:3165: DtypeWarning: Columns (7,50,62) have mixed types.Specify dtype option on import or set low_memory=False.\n",
      "  has_raised = await self.run_ast_nodes(code_ast.body, cell_name,\n"
     ]
    },
    {
     "name": "stdout",
     "output_type": "stream",
     "text": [
      "D:\\Eduardo\\Python\\Mortalidade\\Mortalidade_Geral_2013.csv\n"
     ]
    },
    {
     "name": "stderr",
     "output_type": "stream",
     "text": [
      "C:\\Users\\eduar\\anaconda3\\lib\\site-packages\\IPython\\core\\interactiveshell.py:3165: DtypeWarning: Columns (61) have mixed types.Specify dtype option on import or set low_memory=False.\n",
      "  has_raised = await self.run_ast_nodes(code_ast.body, cell_name,\n"
     ]
    },
    {
     "name": "stdout",
     "output_type": "stream",
     "text": [
      "D:\\Eduardo\\Python\\Mortalidade\\Mortalidade_Geral_2014.csv\n"
     ]
    },
    {
     "name": "stderr",
     "output_type": "stream",
     "text": [
      "C:\\Users\\eduar\\anaconda3\\lib\\site-packages\\IPython\\core\\interactiveshell.py:3165: DtypeWarning: Columns (4,19,47,67) have mixed types.Specify dtype option on import or set low_memory=False.\n",
      "  has_raised = await self.run_ast_nodes(code_ast.body, cell_name,\n"
     ]
    },
    {
     "name": "stdout",
     "output_type": "stream",
     "text": [
      "D:\\Eduardo\\Python\\Mortalidade\\Mortalidade_Geral_2015.csv\n"
     ]
    },
    {
     "name": "stderr",
     "output_type": "stream",
     "text": [
      "C:\\Users\\eduar\\anaconda3\\lib\\site-packages\\IPython\\core\\interactiveshell.py:3165: DtypeWarning: Columns (19,67) have mixed types.Specify dtype option on import or set low_memory=False.\n",
      "  has_raised = await self.run_ast_nodes(code_ast.body, cell_name,\n"
     ]
    },
    {
     "name": "stdout",
     "output_type": "stream",
     "text": [
      "D:\\Eduardo\\Python\\Mortalidade\\Mortalidade_Geral_2016.csv\n"
     ]
    },
    {
     "name": "stderr",
     "output_type": "stream",
     "text": [
      "C:\\Users\\eduar\\anaconda3\\lib\\site-packages\\IPython\\core\\interactiveshell.py:3165: DtypeWarning: Columns (67) have mixed types.Specify dtype option on import or set low_memory=False.\n",
      "  has_raised = await self.run_ast_nodes(code_ast.body, cell_name,\n"
     ]
    },
    {
     "name": "stdout",
     "output_type": "stream",
     "text": [
      "D:\\Eduardo\\Python\\Mortalidade\\Mortalidade_Geral_2017.csv\n"
     ]
    },
    {
     "name": "stderr",
     "output_type": "stream",
     "text": [
      "C:\\Users\\eduar\\anaconda3\\lib\\site-packages\\IPython\\core\\interactiveshell.py:3165: DtypeWarning: Columns (67) have mixed types.Specify dtype option on import or set low_memory=False.\n",
      "  has_raised = await self.run_ast_nodes(code_ast.body, cell_name,\n"
     ]
    },
    {
     "name": "stdout",
     "output_type": "stream",
     "text": [
      "D:\\Eduardo\\Python\\Mortalidade\\Mortalidade_Geral_2018.csv\n"
     ]
    },
    {
     "name": "stderr",
     "output_type": "stream",
     "text": [
      "C:\\Users\\eduar\\anaconda3\\lib\\site-packages\\IPython\\core\\interactiveshell.py:3165: DtypeWarning: Columns (66) have mixed types.Specify dtype option on import or set low_memory=False.\n",
      "  has_raised = await self.run_ast_nodes(code_ast.body, cell_name,\n"
     ]
    },
    {
     "name": "stdout",
     "output_type": "stream",
     "text": [
      "D:\\Eduardo\\Python\\Mortalidade\\Mortalidade_Geral_2019.csv\n"
     ]
    },
    {
     "name": "stderr",
     "output_type": "stream",
     "text": [
      "C:\\Users\\eduar\\anaconda3\\lib\\site-packages\\IPython\\core\\interactiveshell.py:3165: DtypeWarning: Columns (66) have mixed types.Specify dtype option on import or set low_memory=False.\n",
      "  has_raised = await self.run_ast_nodes(code_ast.body, cell_name,\n"
     ]
    },
    {
     "name": "stdout",
     "output_type": "stream",
     "text": [
      "D:\\Eduardo\\Python\\Mortalidade\\Mortalidade_Geral_2020_preliminar.csv\n"
     ]
    },
    {
     "name": "stderr",
     "output_type": "stream",
     "text": [
      "C:\\Users\\eduar\\anaconda3\\lib\\site-packages\\IPython\\core\\interactiveshell.py:3165: DtypeWarning: Columns (66) have mixed types.Specify dtype option on import or set low_memory=False.\n",
      "  has_raised = await self.run_ast_nodes(code_ast.body, cell_name,\n"
     ]
    }
   ],
   "source": [
    "folder = r'D:\\Eduardo\\Python\\Mortalidade'\n",
    "files = abrir_historico(folder)\n",
    "caminhos = []\n",
    "\n",
    "caminhos.append(files)\n",
    "\n",
    "caminhos = flat_files(caminhos)\n",
    "\n",
    "#caminhos = caminhos[-2:]\n",
    "\n",
    "df = pd.DataFrame()\n",
    "for end in caminhos:\n",
    "    if end.find('Geral') != -1:\n",
    "        print(end)\n",
    "        df_read = pd.read_csv(end,sep = ';')\n",
    "        df_read = suicidio(df_read)\n",
    "        df = df.append(df_read,ignore_index = True)\n",
    "        df.reset_index()  \n",
    "        \n",
    "df = idade(df)\n",
    "df = data_obito(df)\n",
    "df = suicidio(df)\n",
    "df = raca(df)\n",
    "df = escolaridade(df)\n",
    "\n",
    "df_o = df[['Ano','Mes','IDADE','RACACOR','ESC2010']]"
   ]
  },
  {
   "cell_type": "markdown",
   "id": "20af359e",
   "metadata": {},
   "source": [
    "# Graficos"
   ]
  },
  {
   "cell_type": "code",
   "execution_count": 130,
   "id": "a1af12fb",
   "metadata": {},
   "outputs": [],
   "source": [
    "def evolucao(ax):\n",
    "    df = df_o\n",
    "\n",
    "    df['Quantidade'] = 1\n",
    "    df = df.groupby(['Ano']).count()\n",
    "    df = df.reset_index()\n",
    "    df['Quantidade'] = round(df['Quantidade']/1000,1)\n",
    "\n",
    "    #f, ax = plt.subplots(figsize=(10,3.5))\n",
    "    sns.barplot(x='Ano',y='Quantidade',data=df,ax=ax,palette=pallete_bann(df,'Quantidade','Wistia_r'))\n",
    "\n",
    "    ax.set_xticklabels(ax.get_xticklabels(),rotation=60, ha='right', fontsize = 10)\n",
    "    titulo = 'Evolução de Suicídios no Brasil'\n",
    "    ax.set_title(titulo, fontsize=16)\n",
    "    ax.set_xlabel('Fonte: SIM (Sistema de Informação sobre Mortalidade)', fontsize=8)\n",
    "    ax.set_ylabel('Ocorrencias x 1000', fontsize=10)\n",
    "\n",
    "\n",
    "    for p in ax.patches:\n",
    "        ax.annotate(p.get_height(), \n",
    "                       (p.get_x() + p.get_width() / 2., p.get_height()), \n",
    "                       ha = 'center',\n",
    "                       va = 'center', \n",
    "                       size=10,\n",
    "                       xytext = (0, + 10), \n",
    "                       textcoords = 'offset points',\n",
    "                       bbox=dict(boxstyle='round', fc='w',ec=p.get_facecolor(),alpha=0.9),                      \n",
    "                      )\n",
    "    return ax\n",
    "    "
   ]
  },
  {
   "cell_type": "code",
   "execution_count": 132,
   "id": "d9c91ae1",
   "metadata": {},
   "outputs": [],
   "source": [
    "def idade3(ax):\n",
    "    df = df_o\n",
    "\n",
    "    df = df.loc[df['IDADE']<110]\n",
    "    df['IDADE'] = df['IDADE'].astype(int)\n",
    "\n",
    "    df['Quantidade'] = 1\n",
    "    tabela = pd.pivot_table(df, values = 'Quantidade', index=['Ano'],columns=['IDADE'], aggfunc='count')\n",
    "    #f, ax = plt.subplots(figsize=(15,7))\n",
    "    sns.heatmap(tabela,\n",
    "                linewidths=.05,\n",
    "                ax=ax,\n",
    "                annot=False,\n",
    "                fmt='.0f',\n",
    "                cmap = cmap_bann(),\n",
    "                cbar = True,\n",
    "                annot_kws={\"fontsize\":14}\n",
    "                )\n",
    "\n",
    "    ax.set_yticklabels(ax.get_yticklabels(),rotation=0, ha='right', fontsize = 10)\n",
    "    ax.set_xlabel('Evolução de Suicídios por Idade',rotation=0, fontsize=12,ha='center',va='center')\n",
    "    ax.xaxis.set_label_position('top') \n",
    "    ax.set_ylabel('Ano', fontsize=12)\n",
    "    return ax"
   ]
  },
  {
   "cell_type": "code",
   "execution_count": 127,
   "id": "e88ec547",
   "metadata": {},
   "outputs": [],
   "source": [
    "def escolaridadexidade(ax):\n",
    "    df = df_o\n",
    "    df = df.loc[df['IDADE']<110]\n",
    "    df = df.loc[df['ESC2010']!='Ignorado']\n",
    "    df = df.loc[df['Ano']>=2010]\n",
    "\n",
    "    #f, ax = plt.subplots(figsize=(15,5))\n",
    "    sns.boxplot(x=\"ESC2010\", y=\"IDADE\",\n",
    "                data=df,\n",
    "                showfliers = False,\n",
    "                ax = ax,\n",
    "                palette=\"Wistia_r\",\n",
    "                order = ['Fund. I', 'Fund. II', 'Médio','Sup. Inc.','Sup. Comp.'])\n",
    "    \n",
    "    ax.set_xticklabels(ax.get_xticklabels(),rotation=60, ha='right', fontsize = 10)\n",
    "    ax.set_title('Distribuição das Idades em que os suicidios ocorrem por Escolaridade ',rotation=0, fontsize=12)\n",
    "    ax.set_xlabel('',rotation=0, fontsize=12,ha='center',va='top')\n",
    "    ax.set_ylabel('Idade', fontsize=12)\n",
    "        \n",
    "    return ax"
   ]
  },
  {
   "cell_type": "code",
   "execution_count": 128,
   "id": "c9562f38",
   "metadata": {},
   "outputs": [],
   "source": [
    "def racacor(ax):\n",
    "    df = df_o\n",
    "    df = df.loc[df['IDADE']<110]\n",
    "    df = df.loc[df['RACACOR']!=9]\n",
    "    df = df.loc[df['Ano']>=2010]\n",
    "\n",
    "    #f, ax = plt.subplots(figsize=(15,5))\n",
    "    sns.boxplot(x=\"RACACOR\", y=\"IDADE\",\n",
    "                data=df,\n",
    "                showfliers = False,\n",
    "                ax = ax,\n",
    "                palette=\"Wistia_r\")\n",
    "    \n",
    "    ax.set_title('Distribuição das Idades em que os suicidios ocorrem por Raça ',rotation=0, fontsize=12)\n",
    "    ax.set_xlabel('',rotation=0, fontsize=12,ha='center',va='bottom')\n",
    "    ax.set_ylabel('Idade', fontsize=12)\n",
    "        \n",
    "    return ax"
   ]
  },
  {
   "cell_type": "code",
   "execution_count": 133,
   "id": "f99eaaa0",
   "metadata": {},
   "outputs": [
    {
     "data": {
      "image/png": "[encoded data removed]",
      "text/plain": [
       "<Figure size 864x864 with 5 Axes>"
      ]
     },
     "metadata": {
      "needs_background": "light"
     },
     "output_type": "display_data"
    }
   ],
   "source": [
    "gridsize = (3,6)\n",
    "fig = plt.figure(figsize=(12, 12))\n",
    "ax1 = plt.subplot2grid(gridsize, (0, 0), colspan=6, rowspan=1)\n",
    "ax2 = plt.subplot2grid(gridsize, (1, 0), colspan=3, rowspan=2)\n",
    "ax3 = plt.subplot2grid(gridsize, (1, 3), colspan=3, rowspan=1)\n",
    "ax4 = plt.subplot2grid(gridsize, (2, 3), colspan=3, rowspan=1)\n",
    "\n",
    "\n",
    "###################################################################\n",
    "\n",
    "ax1 = evolucao(ax1)\n",
    "ax2 = idade3(ax2)\n",
    "ax3 = racacor(ax3)\n",
    "ax4 = escolaridadexidade(ax4)\n",
    "\n",
    "fig.tight_layout()\n"
   ]
  }
 ],
 "metadata": {
  "kernelspec": {
   "display_name": "Python 3",
   "language": "python",
   "name": "python3"
  },
  "language_info": {
   "codemirror_mode": {
    "name": "ipython",
    "version": 3
   },
   "file_extension": ".py",
   "mimetype": "text/x-python",
   "name": "python",
   "nbconvert_exporter": "python",
   "pygments_lexer": "ipython3",
   "version": "3.8.8"
  }
 },
 "nbformat": 4,
 "nbformat_minor": 5
}
