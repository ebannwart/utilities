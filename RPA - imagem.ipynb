{
 "cells": [
  {
   "cell_type": "code",
   "execution_count": 1,
   "metadata": {},
   "outputs": [],
   "source": [
    "import pyautogui"
   ]
  },
  {
   "cell_type": "code",
   "execution_count": 10,
   "metadata": {},
   "outputs": [],
   "source": [
    "def centro_posicao(imagem):\n",
    "    s = pyautogui.locateOnScreen(imagem, confidence=0.9)\n",
    "    x = s.left + int(s.width/2)\n",
    "    y = s.top + int(s.height/2) \n",
    "    centro = {'x':x,'y':y}\n",
    "    return centro\n",
    "    \n",
    "c = centro_posicao('imagem/favorito.png')\n",
    "pyautogui.click(x = c['x'], y=c['y'])"
   ]
  },
  {
   "cell_type": "code",
   "execution_count": null,
   "metadata": {},
   "outputs": [],
   "source": [
    "pyautogui.drag(1500, 0, duration=0.5) # rolar s\\cspara direita\n",
    "pyautogui.write(f'{folder}', interval=0.05) # escreve-teclado o conteudo de folder \n",
    "pyautogui.press('enter') # pressiona botao enter\n",
    "pyautogui.click(x = 775, y=170) # clicar na posição x,y\n",
    "pyautogui.drag(0, 300, duration=0.5) # rolar para baixo\n",
    "with pyautogui.hold('shift'):\n",
    "    pyautogui.click(x = 784, y=426) # clicar com shift pressionado"
   ]
  },
  {
   "cell_type": "code",
   "execution_count": null,
   "metadata": {},
   "outputs": [],
   "source": [
    "pyautogui.position()"
   ]
  }
 ],
 "metadata": {
  "kernelspec": {
   "display_name": "Python 3",
   "language": "python",
   "name": "python3"
  },
  "language_info": {
   "codemirror_mode": {
    "name": "ipython",
    "version": 3
   },
   "file_extension": ".py",
   "mimetype": "text/x-python",
   "name": "python",
   "nbconvert_exporter": "python",
   "pygments_lexer": "ipython3",
   "version": "3.8.5"
  }
 },
 "nbformat": 4,
 "nbformat_minor": 4
}
